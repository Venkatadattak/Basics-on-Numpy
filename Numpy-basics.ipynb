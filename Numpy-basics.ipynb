{
 "cells": [
  {
   "cell_type": "markdown",
   "metadata": {},
   "source": [
    "NUMPY Package explained"
   ]
  },
  {
   "cell_type": "code",
   "execution_count": 2,
   "metadata": {},
   "outputs": [],
   "source": [
    "#import package\n",
    "import numpy as np"
   ]
  },
  {
   "cell_type": "code",
   "execution_count": 6,
   "metadata": {},
   "outputs": [
    {
     "name": "stdout",
     "output_type": "stream",
     "text": [
      "[1 2 3]\n",
      "[[1.5 2.  3. ]\n",
      " [4.  5.  6. ]]\n",
      "[[[1.5 2.  3. ]\n",
      "  [4.  5.  6. ]]\n",
      "\n",
      " [[3.  2.  1. ]\n",
      "  [4.  5.  6. ]]]\n"
     ]
    }
   ],
   "source": [
    "#1D array\n",
    "a=np.array([1,2,3])\n",
    "#2D array\n",
    "b=np.array([(1.5,2,3),(4,5,6)],dtype=float)\n",
    "#3D array\n",
    "c=np.array([[(1.5,2,3),(4,5,6)],[(3,2,1),(4,5,6)]],dtype=float)\n",
    "print(a)\n",
    "print(b)\n",
    "print(c)"
   ]
  },
  {
   "cell_type": "markdown",
   "metadata": {},
   "source": [
    "><b>np.zeros((3,4))</b> Create an array of zeros<br>\n",
    "><b>np.ones((2,3,4),dtype=np.int16)</b> Create an array of ones<br>\n",
    "><b>d = np.arange(10,25,5)</b> Create an array of evenly\n",
    "spaced values (step value)<br>\n",
    "><b>np.linspace(0,2,9)</b> Create an array of evenly\n",
    "spaced values (number of samples)<br>\n",
    "><b>e = np.full((2,2),7)</b> Create a constant array<br>\n",
    "><b>f = np.eye(2)</b> Create a 2X2 identity matrix<br>\n",
    "><b>np.random.random((2,2))</b> Create an array with random values<br>\n",
    "><b>np.empty((3,2))</b> Create an empty array"
   ]
  },
  {
   "cell_type": "markdown",
   "metadata": {},
   "source": [
    "#saving and loading\n",
    "np.save('my_array', a)\n",
    "np.savez('array.npz', a, b)\n",
    "np.load('my_array.npy')"
   ]
  },
  {
   "cell_type": "markdown",
   "metadata": {},
   "source": [
    "<b> DATA TYPES</b>"
   ]
  },
  {
   "cell_type": "markdown",
   "metadata": {},
   "source": [
    "np.int64 Signed 64-bit integer types<br>\n",
    "np.float32 Standard double-precision floating point<br>\n",
    "np.complex Complex numbers represented by 128 floats<br>\n",
    "np.bool Boolean type storing TRUE and FALSE values<br>\n",
    "np.object Python object type<br>\n",
    "np.string_ Fixed-length string type<br>\n",
    "np.unicode_ Fixed-length unicode type"
   ]
  },
  {
   "cell_type": "markdown",
   "metadata": {},
   "source": [
    "<b> Inspecting array</b>"
   ]
  },
  {
   "cell_type": "code",
   "execution_count": 13,
   "metadata": {},
   "outputs": [],
   "source": [
    "#np.info(np.ndarray.dtype)\n",
    "#a.shape\n",
    "#len(a)\n",
    "#b.ndim\n",
    "#b.size\n",
    "#b.dtype\n",
    "#b.dtype.name\n",
    "b=b.astype(int)"
   ]
  },
  {
   "cell_type": "code",
   "execution_count": 14,
   "metadata": {},
   "outputs": [
    {
     "data": {
      "text/plain": [
       "dtype('int32')"
      ]
     },
     "execution_count": 14,
     "metadata": {},
     "output_type": "execute_result"
    }
   ],
   "source": [
    "b.dtype"
   ]
  },
  {
   "cell_type": "markdown",
   "metadata": {},
   "source": [
    "<img src='npcal.PNG'/>"
   ]
  },
  {
   "cell_type": "code",
   "execution_count": 16,
   "metadata": {},
   "outputs": [
    {
     "data": {
      "text/plain": [
       "2.0"
      ]
     },
     "execution_count": 16,
     "metadata": {},
     "output_type": "execute_result"
    }
   ],
   "source": [
    "a.mean()"
   ]
  },
  {
   "cell_type": "markdown",
   "metadata": {},
   "source": [
    "<b>Copying arrays</b>"
   ]
  },
  {
   "cell_type": "code",
   "execution_count": 19,
   "metadata": {},
   "outputs": [],
   "source": [
    "h=a.view()\n",
    "np.copy(a)\n",
    "h=a.copy()\n"
   ]
  },
  {
   "cell_type": "code",
   "execution_count": 20,
   "metadata": {},
   "outputs": [
    {
     "data": {
      "text/plain": [
       "array([1, 2, 3])"
      ]
     },
     "execution_count": 20,
     "metadata": {},
     "output_type": "execute_result"
    }
   ],
   "source": [
    "h"
   ]
  },
  {
   "cell_type": "markdown",
   "metadata": {},
   "source": [
    "<b>Sorting arrays</b>"
   ]
  },
  {
   "cell_type": "code",
   "execution_count": 25,
   "metadata": {},
   "outputs": [],
   "source": [
    "a.sort()\n",
    "c.sort(axis=0)"
   ]
  },
  {
   "cell_type": "code",
   "execution_count": 26,
   "metadata": {},
   "outputs": [
    {
     "data": {
      "text/plain": [
       "array([[[1.5, 2. , 1. ],\n",
       "        [4. , 5. , 6. ]],\n",
       "\n",
       "       [[3. , 2. , 3. ],\n",
       "        [4. , 5. , 6. ]]])"
      ]
     },
     "execution_count": 26,
     "metadata": {},
     "output_type": "execute_result"
    }
   ],
   "source": [
    "c"
   ]
  },
  {
   "cell_type": "markdown",
   "metadata": {},
   "source": [
    "<img src='subsetarray.PNG'/>"
   ]
  },
  {
   "cell_type": "code",
   "execution_count": null,
   "metadata": {},
   "outputs": [],
   "source": []
  }
 ],
 "metadata": {
  "kernelspec": {
   "display_name": "Python 3",
   "language": "python",
   "name": "python3"
  },
  "language_info": {
   "codemirror_mode": {
    "name": "ipython",
    "version": 3
   },
   "file_extension": ".py",
   "mimetype": "text/x-python",
   "name": "python",
   "nbconvert_exporter": "python",
   "pygments_lexer": "ipython3",
   "version": "3.7.3"
  }
 },
 "nbformat": 4,
 "nbformat_minor": 2
}
